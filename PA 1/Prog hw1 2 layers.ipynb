{
 "cells": [
  {
   "cell_type": "code",
   "execution_count": 39,
   "metadata": {},
   "outputs": [],
   "source": [
    "import tensorflow as tf\n",
    "import matplotlib.image as mpimg\n",
    "import matplotlib.pyplot as plt\n",
    "import os\n",
    "import numpy as np\n",
    "import pickle\n",
    "import matplotlib\n",
    "from sklearn.metrics import confusion_matrix\n",
    "\n",
    "np.set_printoptions(precision=3, suppress=True)"
   ]
  },
  {
   "cell_type": "code",
   "execution_count": 2,
   "metadata": {},
   "outputs": [],
   "source": [
    "data_path = os.path.dirname(os.path.realpath('')) + '/Programming Assignment 1/data_prog2'\n",
    "train_data_path = data_path + \"/train_data\"\n",
    "test_data_path = data_path + \"/test_data\"\n",
    "train_labels_path = data_path + \"/labels/train_label.txt\"\n",
    "test_labels_path = data_path + \"/labels/test_label.txt\""
   ]
  },
  {
   "cell_type": "code",
   "execution_count": 3,
   "metadata": {},
   "outputs": [],
   "source": [
    "# train_data = 25112*784\n",
    "num_train_data = len(os.listdir(train_data_path))\n",
    "train_data = []\n",
    "for filename in sorted(os.listdir(train_data_path)):\n",
    "    image = mpimg.imread(os.path.join(train_data_path, filename))\n",
    "    train_data.append(image.reshape(784).tolist())"
   ]
  },
  {
   "cell_type": "code",
   "execution_count": 4,
   "metadata": {},
   "outputs": [],
   "source": [
    "# test_data = 4982*784\n",
    "num_test_data = len(os.listdir(test_data_path))\n",
    "test_data = []\n",
    "for filename in sorted(os.listdir(test_data_path)):\n",
    "    image = mpimg.imread(os.path.join(test_data_path, filename))\n",
    "    test_data.append(image.reshape(784).tolist())"
   ]
  },
  {
   "cell_type": "code",
   "execution_count": 5,
   "metadata": {},
   "outputs": [],
   "source": [
    "# normalize data\n",
    "X_train = [[y / 255. for y in x] for x in train_data]\n",
    "X_test = [[y / 255. for y in x] for x in test_data]"
   ]
  },
  {
   "cell_type": "code",
   "execution_count": 6,
   "metadata": {},
   "outputs": [],
   "source": [
    "# onehot encode output to 5 categories\n",
    "# Y_train = 25112*5\n",
    "Y_train = []\n",
    "with open(train_labels_path,'r') as f:\n",
    "    for line in f.readlines():\n",
    "        j = int(line[:-1]) - 1\n",
    "        tmp = [0.] * 5\n",
    "        tmp[j] = 1.\n",
    "        Y_train.append(tmp)\n",
    "    \n",
    "# Y_test = 4982*5\n",
    "Y_test = []\n",
    "with open(test_labels_path,'r') as f:\n",
    "    for line in f.readlines():\n",
    "        j = int(line[:-1]) - 1\n",
    "        tmp = [0.] * 5\n",
    "        tmp[j] = 1.\n",
    "        Y_test.append(tmp)"
   ]
  },
  {
   "cell_type": "code",
   "execution_count": 7,
   "metadata": {},
   "outputs": [],
   "source": [
    "X_train = np.matrix(X_train)\n",
    "X_test = np.matrix(X_test)\n",
    "Y_train = np.matrix(Y_train)\n",
    "Y_test = np.matrix(Y_test)"
   ]
  },
  {
   "cell_type": "code",
   "execution_count": 8,
   "metadata": {},
   "outputs": [],
   "source": [
    "def sigmoid(x):\n",
    "    # x = 64*N matrix\n",
    "    return 1. / (1 + np.exp(-x))"
   ]
  },
  {
   "cell_type": "code",
   "execution_count": 9,
   "metadata": {},
   "outputs": [],
   "source": [
    "def softmax_matrix(x):\n",
    "    # x = 5*N matrix\n",
    "    return np.exp(x) / np.sum(np.exp(x), axis = 0)"
   ]
  },
  {
   "cell_type": "code",
   "execution_count": 10,
   "metadata": {},
   "outputs": [],
   "source": [
    "def compute_loss_matrix(Y_hat, Y):\n",
    "    # Y, Y_hat = 5*N matrix\n",
    "    return -1 / Y.shape[1] * np.sum(np.multiply(Y, np.log(Y_hat)))"
   ]
  },
  {
   "cell_type": "code",
   "execution_count": 46,
   "metadata": {},
   "outputs": [],
   "source": [
    "# X -> |W1,b1| -> A1 -> |sigmoid| -> Z1 -> |W2,b2| -> A2 -> |softmax| -> Z2 = Y_hat\n",
    "W1 = np.matrix(np.random.randn(784,64)) * 0.001\n",
    "b1 = np.matrix(np.random.randn(64,1)) * 0.001\n",
    "W2 = np.matrix(np.random.randn(64,5)) * 0.001\n",
    "b2 = np.matrix(np.random.randn(5,1)) * 0.001"
   ]
  },
  {
   "cell_type": "code",
   "execution_count": 48,
   "metadata": {},
   "outputs": [
    {
     "name": "stdout",
     "output_type": "stream",
     "text": [
      "Iter: 0\tloss: 1.5278494398119342\n",
      "Iter: 1\tloss: 1.5189582959504624\n",
      "Iter: 2\tloss: 1.5086841714171395\n",
      "Iter: 3\tloss: 1.4964351272413317\n",
      "Iter: 4\tloss: 1.4811032432699005\n",
      "Iter: 5\tloss: 1.4607977724428667\n",
      "Iter: 6\tloss: 1.434393519915286\n",
      "Iter: 7\tloss: 1.4045708107196284\n",
      "Iter: 8\tloss: 1.3724475206220934\n",
      "Iter: 9\tloss: 1.3380465178618555\n",
      "Iter: 10\tloss: 1.3020336356358175\n",
      "Iter: 11\tloss: 1.2651128335931807\n",
      "Iter: 12\tloss: 1.2274938534568909\n",
      "Iter: 13\tloss: 1.1885725426601637\n",
      "Iter: 14\tloss: 1.1470986708783482\n",
      "Iter: 15\tloss: 1.101698987014498\n",
      "Iter: 16\tloss: 1.0517011531670368\n",
      "Iter: 17\tloss: 0.9987093118697026\n",
      "Iter: 18\tloss: 0.9476968635382808\n",
      "Iter: 19\tloss: 0.9026339138142514\n",
      "Iter: 20\tloss: 0.8634299938915213\n",
      "Iter: 21\tloss: 0.8286535665640183\n",
      "Iter: 22\tloss: 0.7970066350963702\n",
      "Iter: 23\tloss: 0.7675850687288918\n",
      "Iter: 24\tloss: 0.7398185025375028\n",
      "Iter: 25\tloss: 0.7133678250943035\n",
      "Iter: 26\tloss: 0.6880444725903732\n",
      "Iter: 27\tloss: 0.6637564657194855\n",
      "Iter: 28\tloss: 0.6404613166337291\n",
      "Iter: 29\tloss: 0.6181286201844398\n",
      "Iter: 30\tloss: 0.5967164246623913\n",
      "Iter: 31\tloss: 0.5761823556668192\n",
      "Iter: 32\tloss: 0.5565015362448207\n",
      "Iter: 33\tloss: 0.5376973579758144\n",
      "Iter: 34\tloss: 0.5198160874921902\n",
      "Iter: 35\tloss: 0.5029481147856281\n",
      "Iter: 36\tloss: 0.4872850941193502\n",
      "Iter: 37\tloss: 0.47306836179330414\n",
      "Iter: 38\tloss: 0.4615175780585999\n",
      "Iter: 39\tloss: 0.45276516497913455\n",
      "Iter: 40\tloss: 0.45406276606727475\n",
      "Iter: 41\tloss: 0.4559236886323435\n",
      "Iter: 42\tloss: 0.49320519845640604\n",
      "Iter: 43\tloss: 0.47605957258656295\n",
      "Iter: 44\tloss: 0.5190513514719559\n",
      "Iter: 45\tloss: 0.43895948857517586\n",
      "Iter: 46\tloss: 0.41729488345573595\n",
      "Iter: 47\tloss: 0.3953575641156444\n",
      "Iter: 48\tloss: 0.3717802636366164\n",
      "Iter: 49\tloss: 0.36698564643686266\n",
      "Iter: 50\tloss: 0.34991524960281795\n",
      "Iter: 51\tloss: 0.3459267668877173\n",
      "Iter: 52\tloss: 0.33298864509133275\n",
      "Iter: 53\tloss: 0.32914199314614756\n",
      "Iter: 54\tloss: 0.3188611969130465\n",
      "Iter: 55\tloss: 0.3153504356685143\n",
      "Iter: 56\tloss: 0.30682518686887744\n",
      "Iter: 57\tloss: 0.30375030416786347\n",
      "Iter: 58\tloss: 0.29644206519215843\n",
      "Iter: 59\tloss: 0.29382399715843294\n",
      "Iter: 60\tloss: 0.2873940851875418\n",
      "Iter: 61\tloss: 0.2852085170936906\n",
      "Iter: 62\tloss: 0.27942669769241096\n",
      "Iter: 63\tloss: 0.2776189015987296\n",
      "Iter: 64\tloss: 0.27231780754874074\n",
      "Iter: 65\tloss: 0.270809478457102\n",
      "Iter: 66\tloss: 0.26586463125861887\n",
      "Iter: 67\tloss: 0.2645611964292331\n",
      "Iter: 68\tloss: 0.25988482087086245\n",
      "Iter: 69\tloss: 0.2586873130375863\n",
      "Iter: 70\tloss: 0.25422763087988026\n",
      "Iter: 71\tloss: 0.25304853688841206\n",
      "Iter: 72\tloss: 0.24878780870403547\n",
      "Iter: 73\tloss: 0.24756611144482563\n",
      "Iter: 74\tloss: 0.24351342020849084\n",
      "Iter: 75\tloss: 0.24222273702382432\n",
      "Iter: 76\tloss: 0.23840177079108157\n",
      "Iter: 77\tloss: 0.23704836350723346\n",
      "Iter: 78\tloss: 0.23348402356466352\n",
      "Iter: 79\tloss: 0.23209654456826628\n",
      "Iter: 80\tloss: 0.22880484805091028\n",
      "Iter: 81\tloss: 0.22742119376959202\n",
      "Iter: 82\tloss: 0.22440479461759277\n",
      "Iter: 83\tloss: 0.22306127595055986\n",
      "Iter: 84\tloss: 0.2203100685855119\n",
      "Iter: 85\tloss: 0.21903536187272032\n",
      "Iter: 86\tloss: 0.21652996069321667\n",
      "Iter: 87\tloss: 0.21534346866787038\n",
      "Iter: 88\tloss: 0.21305931317433258\n",
      "Iter: 89\tloss: 0.21197218586903227\n",
      "Iter: 90\tloss: 0.20988289283930459\n",
      "Iter: 91\tloss: 0.2088999850602478\n",
      "Iter: 92\tloss: 0.20697949222643608\n",
      "Iter: 93\tloss: 0.20610117550851362\n",
      "Iter: 94\tloss: 0.2043247842283831\n",
      "Iter: 95\tloss: 0.20354815305925872\n",
      "Iter: 96\tloss: 0.2018927873346406\n",
      "Iter: 97\tloss: 0.20121218236997948\n",
      "Iter: 98\tloss: 0.19965619608233146\n",
      "Iter: 99\tloss: 0.19906315034382918\n",
      "Iter: 100\tloss: 0.19758596958386263\n",
      "Iter: 101\tloss: 0.19706877467942988\n",
      "Iter: 102\tloss: 0.1956506278450176\n",
      "Iter: 103\tloss: 0.19519379836369485\n",
      "Iter: 104\tloss: 0.19381577790794732\n",
      "Iter: 105\tloss: 0.19339979309569524\n",
      "Iter: 106\tloss: 0.19204448032561539\n",
      "Iter: 107\tloss: 0.1916462693287373\n",
      "Iter: 108\tloss: 0.190299071005243\n",
      "Iter: 109\tloss: 0.18989367878135086\n",
      "Iter: 110\tloss: 0.188544790701841\n",
      "Iter: 111\tloss: 0.18810837636876648\n",
      "Iter: 112\tloss: 0.18675488289103553\n",
      "Iter: 113\tloss: 0.18626860117964275\n",
      "Iter: 114\tloss: 0.18491579381115755\n",
      "Iter: 115\tloss: 0.18436939377035233\n",
      "Iter: 116\tloss: 0.18303030769886672\n",
      "Iter: 117\tloss: 0.1824239572781326\n",
      "Iter: 118\tloss: 0.18111670998695104\n",
      "Iter: 119\tloss: 0.1804600927814029\n",
      "Iter: 120\tloss: 0.179203708220236\n",
      "Iter: 121\tloss: 0.17851270089633614\n",
      "Iter: 122\tloss: 0.17732296772632036\n",
      "Iter: 123\tloss: 0.17661534353640176\n",
      "Iter: 124\tloss: 0.17550218214608282\n",
      "Iter: 125\tloss: 0.1747939855642726\n",
      "Iter: 126\tloss: 0.17376087952769195\n",
      "Iter: 127\tloss: 0.1730643966442191\n",
      "Iter: 128\tloss: 0.17210944804027317\n",
      "Iter: 129\tloss: 0.1714327579542536\n",
      "Iter: 130\tloss: 0.1705504778419782\n",
      "Iter: 131\tloss: 0.16989802184889385\n",
      "Iter: 132\tloss: 0.16908109332723428\n",
      "Iter: 133\tloss: 0.16845464115080416\n",
      "Iter: 134\tloss: 0.16769525918699255\n",
      "Iter: 135\tloss: 0.16709485587108894\n",
      "Iter: 136\tloss: 0.16638556497714152\n",
      "Iter: 137\tloss: 0.16581027384183647\n",
      "Iter: 138\tloss: 0.16514439223530258\n",
      "Iter: 139\tloss: 0.16459280305376475\n",
      "Iter: 140\tloss: 0.16396456782066757\n",
      "Iter: 141\tloss: 0.1634351096586835\n",
      "Iter: 142\tloss: 0.16283966098703653\n",
      "Iter: 143\tloss: 0.16233077643195473\n",
      "Iter: 144\tloss: 0.1617640639478955\n",
      "Iter: 145\tloss: 0.16127429469076357\n",
      "Iter: 146\tloss: 0.1607329565122249\n",
      "Iter: 147\tloss: 0.16026097673063036\n",
      "Iter: 148\tloss: 0.1597422184588328\n",
      "Iter: 149\tloss: 0.15928683983744568\n",
      "Iter: 150\tloss: 0.1587883260092039\n",
      "Iter: 151\tloss: 0.1583484888064318\n",
      "Iter: 152\tloss: 0.15786825101213792\n",
      "Iter: 153\tloss: 0.15744300930004268\n",
      "Iter: 154\tloss: 0.15697937093694667\n",
      "Iter: 155\tloss: 0.15656787626871546\n",
      "Iter: 156\tloss: 0.15611939204811515\n",
      "Iter: 157\tloss: 0.1557208775672895\n",
      "Iter: 158\tloss: 0.15528628532809127\n",
      "Iter: 159\tloss: 0.15490005112005484\n",
      "Iter: 160\tloss: 0.15447823356507664\n",
      "Iter: 161\tloss: 0.15410363344699918\n",
      "Iter: 162\tloss: 0.1536935877473928\n",
      "Iter: 163\tloss: 0.1533300174324719\n",
      "Iter: 164\tloss: 0.15293083104986913\n",
      "Iter: 165\tloss: 0.15257771754572616\n",
      "Iter: 166\tloss: 0.15218854901097392\n",
      "Iter: 167\tloss: 0.15184534112901252\n",
      "Iter: 168\tloss: 0.151465404853844\n",
      "Iter: 169\tloss: 0.15113156476589268\n",
      "Iter: 170\tloss: 0.15076011923900345\n",
      "Iter: 171\tloss: 0.15043511509238194\n",
      "Iter: 172\tloss: 0.1500714540247676\n",
      "Iter: 173\tloss: 0.14975475370168606\n",
      "Iter: 174\tloss: 0.14939819984175007\n",
      "Iter: 175\tloss: 0.14908926601367034\n",
      "Iter: 176\tloss: 0.14873916745445642\n",
      "Iter: 177\tloss: 0.14843745412856957\n",
      "Iter: 178\tloss: 0.14809318298039434\n",
      "Iter: 179\tloss: 0.14779813375599915\n",
      "Iter: 180\tloss: 0.14745908706011124\n",
      "Iter: 181\tloss: 0.14717013530013093\n",
      "Iter: 182\tloss: 0.1468357380160053\n",
      "Iter: 183\tloss: 0.14655230908728845\n",
      "Iter: 184\tloss: 0.14622201890347766\n",
      "Iter: 185\tloss: 0.1459435345460911\n",
      "Iter: 186\tloss: 0.14561684815201476\n",
      "Iter: 187\tloss: 0.14534273290455801\n",
      "Iter: 188\tloss: 0.1450191932331189\n",
      "Iter: 189\tloss: 0.14474888267683508\n",
      "Iter: 190\tloss: 0.1444280865051643\n",
      "Iter: 191\tloss: 0.14416103691020982\n",
      "Iter: 192\tloss: 0.14384264211143014\n",
      "Iter: 193\tloss: 0.14357834089657084\n",
      "Iter: 194\tloss: 0.14326207259272364\n",
      "Iter: 195\tloss: 0.14300004887146583\n",
      "Iter: 196\tloss: 0.1426857037660426\n",
      "Iter: 197\tloss: 0.14242553817407044\n",
      "Iter: 198\tloss: 0.14211298645242737\n",
      "Iter: 199\tloss: 0.14185431945395457\n"
     ]
    }
   ],
   "source": [
    "lr = 0.0001\n",
    "X = X_train.T # 784*25112\n",
    "Y = Y_train.T # 5*25112\n",
    "for i in range(200):\n",
    "    A1 = np.matmul(W1.T, X) + b1 # 64*25112\n",
    "    Z1 = sigmoid(A1) # 64*25112\n",
    "    \n",
    "    A2 = np.matmul(W2.T, Z1) + b2 # 5*25112\n",
    "    Y_hat = softmax_matrix(A2) # 5*25112\n",
    "\n",
    "    loss = compute_loss_matrix(Y_hat, Y)\n",
    "    \n",
    "    dW2 = Z1 * (Y_hat-Y).T # 64*5 = (64*25112) * (25112*5)\n",
    "    db2 = np.sum(Y_hat-Y, axis = 1) # 64*1\n",
    "    \n",
    "    dZ1 = W2 * (Y_hat-Y) # (64*5) * (5*25112)\n",
    "    dA1 = np.multiply(dZ1, np.multiply(sigmoid(A1), 1-sigmoid(A1))) # 64*25112\n",
    "    dW1 = X * dA1.T # (784*25112) * (25112*64)\n",
    "    db1 = np.sum(dA1, axis = 1) # 64*1\n",
    "\n",
    "    W2 -= lr * dW2\n",
    "    b2 -= lr * db2\n",
    "    W1 -= lr * dW1\n",
    "    b1 -= lr * db1\n",
    "    \n",
    "#     if i % 100 == 0:\n",
    "    print('Iter: {}\\tloss: {}'.format(i, loss))"
   ]
  },
  {
   "cell_type": "code",
   "execution_count": 49,
   "metadata": {},
   "outputs": [],
   "source": [
    "W_1 = sigmoid(W1) * W2[:,0]\n",
    "W_2 = sigmoid(W1) * W2[:,1]\n",
    "W_3 = sigmoid(W1) * W2[:,2]\n",
    "W_4 = sigmoid(W1) * W2[:,3]\n",
    "W_5 = sigmoid(W1) * W2[:,4]"
   ]
  },
  {
   "cell_type": "code",
   "execution_count": 50,
   "metadata": {},
   "outputs": [
    {
     "data": {
      "image/png": "[encoded data removed]",
      "text/plain": [
       "<matplotlib.figure.Figure at 0x12466aba8>"
      ]
     },
     "metadata": {},
     "output_type": "display_data"
    }
   ],
   "source": [
    "plt.figure(figsize=(20,10))\n",
    "plt.subplot(1, 5, 1)\n",
    "plt.imshow(W_1.reshape(28,28), cmap = 'binary')\n",
    "plt.subplot(1, 5, 2)\n",
    "plt.imshow(W_2.reshape(28,28), cmap = 'binary')\n",
    "plt.subplot(1, 5, 3)\n",
    "plt.imshow(W_3.reshape(28,28), cmap = 'binary')\n",
    "plt.subplot(1, 5, 4)\n",
    "plt.imshow(W_4.reshape(28,28), cmap = 'binary')\n",
    "plt.subplot(1, 5, 5)\n",
    "plt.imshow(W_5.reshape(28,28), cmap = 'binary')\n",
    "# plt.colorbar()\n",
    "plt.show()"
   ]
  },
  {
   "cell_type": "code",
   "execution_count": 38,
   "metadata": {},
   "outputs": [],
   "source": [
    "i = 0\n",
    "predicts = []\n",
    "answers = []\n",
    "for x,y in zip(X_test, Y_test):\n",
    "#    print(y)\n",
    "    a1 = np.matmul(W1.T, x.T) + b1 # 64*25112\n",
    "    z1 = sigmoid(a1) # 64*25112\n",
    "    \n",
    "    a2 = np.matmul(W2.T, z1) + b2 # 5*25112\n",
    "    y_hat = softmax_matrix(a2) # 5*25112\n",
    "    \n",
    "    y_hat = y_hat.tolist()\n",
    "    predict = y_hat.index(max(y_hat)) + 1\n",
    "#    print(predict+1)\n",
    "    predicts.append(predict)\n",
    "\n",
    "    y = y.reshape(5,1).tolist()\n",
    "    answer = y.index(max(y)) + 1\n",
    "#    print(answer+1)\n",
    "    answers.append(answer)"
   ]
  },
  {
   "cell_type": "code",
   "execution_count": 40,
   "metadata": {},
   "outputs": [
    {
     "data": {
      "text/plain": [
       "array([[1053,    6,    3,    0,    2],\n",
       "       [   3,  954,   17,    9,    7],\n",
       "       [   1,   13,  992,    3,   21],\n",
       "       [   8,    7,    3,  964,    1],\n",
       "       [   2,    6,   33,   10,  864]])"
      ]
     },
     "execution_count": 40,
     "metadata": {},
     "output_type": "execute_result"
    }
   ],
   "source": [
    "confusion_matrix(answers, predicts)"
   ]
  },
  {
   "cell_type": "code",
   "execution_count": 42,
   "metadata": {},
   "outputs": [],
   "source": [
    "class_error = [0]*5\n",
    "class_total = [0]*5"
   ]
  },
  {
   "cell_type": "code",
   "execution_count": 43,
   "metadata": {},
   "outputs": [],
   "source": [
    "for p,a in zip(predicts, answers):\n",
    "    class_total[a-1] += 1\n",
    "    if p != a:\n",
    "        class_error[a-1] += 1"
   ]
  },
  {
   "cell_type": "code",
   "execution_count": 44,
   "metadata": {},
   "outputs": [
    {
     "name": "stdout",
     "output_type": "stream",
     "text": [
      "[11, 36, 38, 19, 51]\n"
     ]
    }
   ],
   "source": [
    "print(class_error)"
   ]
  },
  {
   "cell_type": "code",
   "execution_count": 45,
   "metadata": {},
   "outputs": [
    {
     "name": "stdout",
     "output_type": "stream",
     "text": [
      "[1064, 990, 1030, 983, 915]\n"
     ]
    }
   ],
   "source": [
    "print(class_total)"
   ]
  },
  {
   "cell_type": "code",
   "execution_count": null,
   "metadata": {},
   "outputs": [],
   "source": []
  }
 ],
 "metadata": {
  "kernelspec": {
   "display_name": "Python 3",
   "language": "python",
   "name": "python3"
  },
  "language_info": {
   "codemirror_mode": {
    "name": "ipython",
    "version": 3
   },
   "file_extension": ".py",
   "mimetype": "text/x-python",
   "name": "python",
   "nbconvert_exporter": "python",
   "pygments_lexer": "ipython3",
   "version": "3.6.4"
  }
 },
 "nbformat": 4,
 "nbformat_minor": 2
}
