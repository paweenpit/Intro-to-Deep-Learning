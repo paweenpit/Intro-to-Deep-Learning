{
 "cells": [
  {
   "cell_type": "code",
   "execution_count": 1,
   "metadata": {},
   "outputs": [],
   "source": [
    "import tensorflow as tf\n",
    "import matplotlib.image as mpimg\n",
    "import matplotlib.pyplot as plt\n",
    "import os\n",
    "import numpy as np\n",
    "import pickle\n",
    "import matplotlib\n",
    "from sklearn.metrics import confusion_matrix\n",
    "\n",
    "np.set_printoptions(precision=3, suppress=True)"
   ]
  },
  {
   "cell_type": "code",
   "execution_count": 2,
   "metadata": {},
   "outputs": [],
   "source": [
    "X_train = np.matrix([[1],[0]])\n",
    "Y_train = np.matrix([[0],[1]])"
   ]
  },
  {
   "cell_type": "code",
   "execution_count": 7,
   "metadata": {},
   "outputs": [],
   "source": [
    "def sigmoid(x):\n",
    "    # x = 64*N matrix\n",
    "    return 1. / (1 + np.exp(-x))"
   ]
  },
  {
   "cell_type": "code",
   "execution_count": 8,
   "metadata": {},
   "outputs": [],
   "source": [
    "def softmax_matrix(x):\n",
    "    # x = 5*N matrix\n",
    "    return np.exp(x) / np.sum(np.exp(x), axis = 0)"
   ]
  },
  {
   "cell_type": "code",
   "execution_count": 9,
   "metadata": {},
   "outputs": [],
   "source": [
    "def compute_loss_matrix(Y_hat, Y):\n",
    "    # Y, Y_hat = 5*N matrix\n",
    "    return -1 / Y.shape[1] * np.sum(np.multiply(Y, np.log(Y_hat)))"
   ]
  },
  {
   "cell_type": "code",
   "execution_count": 18,
   "metadata": {},
   "outputs": [],
   "source": [
    "W1 = np.matrix([[3.,6.],[4.,5.]])\n",
    "b1 = np.matrix([[1.],[-6.]])\n",
    "W2 = np.matrix([[2.,3.],[4.,3.]])\n",
    "b2 = np.matrix([[-1.],[-2.]])"
   ]
  },
  {
   "cell_type": "code",
   "execution_count": 19,
   "metadata": {},
   "outputs": [
    {
     "name": "stdout",
     "output_type": "stream",
     "text": [
      "A1: \n",
      " [[4.]\n",
      " [0.]]\n",
      "Z1: \n",
      " [[0.982]\n",
      " [0.5  ]]\n",
      "A2: \n",
      " [[2.964]\n",
      " [2.446]]\n",
      "Y_hat: \n",
      " [[0.627]\n",
      " [0.373]]\n",
      "loss: \n",
      " 0.985310624459659\n",
      "dW2: \n",
      " [[ 0.615 -0.615]\n",
      " [ 0.313 -0.313]]\n",
      "db2: \n",
      " [[ 0.627]\n",
      " [-0.627]]\n",
      "dW1: \n",
      " [[-0.011  0.157]\n",
      " [ 0.     0.   ]]\n",
      "db1: \n",
      " [[-0.011]\n",
      " [ 0.157]]\n",
      "W2: \n",
      " [[1.692 3.308]\n",
      " [3.843 3.157]]\n",
      "b2: \n",
      " [[-1.313]\n",
      " [-1.687]]\n",
      "W1: \n",
      " [[3.006 5.922]\n",
      " [4.    5.   ]]\n",
      "b1: \n",
      " [[ 1.006]\n",
      " [-6.078]]\n",
      "Iter: 0\tloss: 0.985310624459659\n"
     ]
    }
   ],
   "source": [
    "lr = 0.5\n",
    "X = X_train\n",
    "Y = Y_train\n",
    "for i in range(1):\n",
    "    A1 = np.matmul(W1.T, X) + b1 # 64*25112\n",
    "    Z1 = sigmoid(A1) # 64*25112\n",
    "    \n",
    "    A2 = np.matmul(W2.T, Z1) + b2 # 5*25112\n",
    "    Y_hat = softmax_matrix(A2) # 5*25112\n",
    "\n",
    "    loss = compute_loss_matrix(Y_hat, Y)\n",
    "    \n",
    "    dW2 = Z1 * (Y_hat-Y).T # 64*5 = (64*25112) * (25112*5)\n",
    "    db2 = np.sum(Y_hat-Y, axis = 1) # 64*1\n",
    "    \n",
    "    dZ1 = W2 * (Y_hat-Y) # (64*5) * (5*25112)\n",
    "    dA1 = np.multiply(dZ1, np.multiply(sigmoid(A1), 1-sigmoid(A1))) # 64*25112\n",
    "    dW1 = X * dA1.T # (784*25112) * (25112*64)\n",
    "    db1 = np.sum(dA1, axis = 1) # 64*1\n",
    "\n",
    "    W2 -= lr * dW2\n",
    "    b2 -= lr * db2\n",
    "    W1 -= lr * dW1\n",
    "    b1 -= lr * db1\n",
    "    \n",
    "    print('A1: \\n', A1)\n",
    "    print('Z1: \\n', Z1)\n",
    "    print('A2: \\n', A2)\n",
    "    print('Y_hat: \\n', Y_hat)\n",
    "    print('loss: \\n', loss)\n",
    "    \n",
    "    print('dW2: \\n', dW2)\n",
    "    print('db2: \\n', db2)\n",
    "    print('dW1: \\n', dW1)\n",
    "    print('db1: \\n', db1)\n",
    "    \n",
    "    print('W2: \\n', W2)\n",
    "    print('b2: \\n', b2)\n",
    "    print('W1: \\n', W1)\n",
    "    print('b1: \\n', b1)\n",
    "    \n",
    "#     if i % 100 == 0:\n",
    "    print('Iter: {}\\tloss: {}'.format(i, loss))"
   ]
  },
  {
   "cell_type": "code",
   "execution_count": 15,
   "metadata": {},
   "outputs": [
    {
     "data": {
      "text/plain": [
       "matrix([[4.],\n",
       "        [0.]])"
      ]
     },
     "execution_count": 15,
     "metadata": {},
     "output_type": "execute_result"
    }
   ],
   "source": [
    "np.matmul(W1.T, X) + b1"
   ]
  },
  {
   "cell_type": "code",
   "execution_count": null,
   "metadata": {},
   "outputs": [],
   "source": []
  }
 ],
 "metadata": {
  "kernelspec": {
   "display_name": "Python 3",
   "language": "python",
   "name": "python3"
  },
  "language_info": {
   "codemirror_mode": {
    "name": "ipython",
    "version": 3
   },
   "file_extension": ".py",
   "mimetype": "text/x-python",
   "name": "python",
   "nbconvert_exporter": "python",
   "pygments_lexer": "ipython3",
   "version": "3.6.4"
  }
 },
 "nbformat": 4,
 "nbformat_minor": 2
}
