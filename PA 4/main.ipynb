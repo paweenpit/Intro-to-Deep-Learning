{
 "cells": [
  {
   "cell_type": "code",
   "execution_count": 2,
   "metadata": {},
   "outputs": [],
   "source": [
    "import tensorflow as tf\n",
    "import numpy as np\n",
    "import pickle\n",
    "import matplotlib.pyplot as plt\n",
    "import matplotlib.image as mpimg\n",
    "import os\n",
    "from sklearn.metrics import confusion_matrix\n",
    "import itertools\n",
    "%matplotlib inline "
   ]
  },
  {
   "cell_type": "code",
   "execution_count": 101,
   "metadata": {},
   "outputs": [],
   "source": [
    "# load data\n",
    "with open('./youtube_train_data.pkl', 'rb') as f:\n",
    "    u = pickle._Unpickler(f)\n",
    "    u.encoding = 'latin1'\n",
    "    train_data, train_labels = u.load()"
   ]
  },
  {
   "cell_type": "code",
   "execution_count": 102,
   "metadata": {},
   "outputs": [],
   "source": [
    "train_data = train_data.astype(np.float32)"
   ]
  },
  {
   "cell_type": "code",
   "execution_count": 5,
   "metadata": {},
   "outputs": [],
   "source": [
    "# normalize the training data over each image\n",
    "train_data_normalized -= np.mean(train_data, axis=(2, 3, 4), keepdims=True)\n",
    "train_data_normalized /= np.std(train_data, axis=(2, 3, 4), keepdims=True)"
   ]
  },
  {
   "cell_type": "code",
   "execution_count": 6,
   "metadata": {},
   "outputs": [],
   "source": [
    "num_data = len(train_data)\n",
    "np.random.seed(2019)\n",
    "ind = np.random.permutation(num_data)\n",
    "\n",
    "split_rate = 0.8\n",
    "num_train = int(split_rate * num_data)\n",
    "\n",
    "X_train = train_data_normalized[ind[:num_train]]\n",
    "Y_train = train_labels[ind[:num_train]]\n",
    "\n",
    "X_valid = train_data_normalized[ind[num_train+1:]]\n",
    "Y_valid = train_data[ind[num_train+1:]]"
   ]
  },
  {
   "cell_type": "code",
   "execution_count": 273,
   "metadata": {},
   "outputs": [],
   "source": [
    "lr = 0.01\n",
    "batch_size = 10\n",
    "seq_length = 10\n",
    "num_units = 100 # num LSTM hidden units"
   ]
  },
  {
   "cell_type": "code",
   "execution_count": 274,
   "metadata": {},
   "outputs": [],
   "source": [
    "tf.reset_default_graph()\n",
    "\n",
    "x = tf.placeholder(shape=[None, 10, 64, 64, 3], dtype=tf.float32)\n",
    "y = tf.placeholder(shape=[None, 10, 7, 2], dtype=tf.float32)"
   ]
  },
  {
   "cell_type": "code",
   "execution_count": 275,
   "metadata": {},
   "outputs": [],
   "source": [
    "cnn_weights = {\n",
    "    'w1': tf.Variable(tf.random_normal([5,5,3,16], stddev = 0.1, name='w1')),\n",
    "    'w2': tf.Variable(tf.random_normal([5,5,16,32], stddev = 0.1, name='w2')), \n",
    "    'w3': tf.Variable(tf.random_normal([3,3,32,64], stddev = 0.1, name='w3'))\n",
    "}\n",
    "\n",
    "cnn_biases = {\n",
    "    'b1': tf.Variable(tf.random_normal([16],stddev = 0.1, name='b1')),\n",
    "    'b2': tf.Variable(tf.random_normal([32],stddev = 0.1, name='b2')),\n",
    "    'b3': tf.Variable(tf.random_normal([64],stddev = 0.1, name='b3'))\n",
    "}"
   ]
  },
  {
   "cell_type": "code",
   "execution_count": 276,
   "metadata": {},
   "outputs": [],
   "source": [
    "def CNN(x, w, b):\n",
    "    conv1 = tf.nn.conv2d(x, filter=w['w1'],strides=[1,1,1,1], padding='SAME') # [None,64,64,6]\n",
    "    conv1 = tf.nn.bias_add(conv1, b['b1'])\n",
    "    acti1 = tf.nn.relu(conv1)\n",
    "    pool1 = tf.nn.max_pool(acti1, ksize=[1,2,2,1], strides=[1,2,2,1], padding='SAME') # [None,32,32,6]\n",
    "    c_nb1 = tf.layers.batch_normalization(pool1)\n",
    "\n",
    "    conv2 = tf.nn.conv2d(c_nb1, filter=w['w2'],strides=[1,1,1,1], padding='SAME') # [None,32,32,10]\n",
    "    conv2 = tf.nn.bias_add(conv2, b['b2'])\n",
    "    acti2 = tf.nn.relu(conv2)\n",
    "    pool2 = tf.nn.max_pool(acti2, ksize=[1,2,2,1], strides=[1,2,2,1], padding='SAME') # [None,16,16,10]\n",
    "    c_nb2 = tf.layers.batch_normalization(pool2)\n",
    "    \n",
    "    conv3 = tf.nn.conv2d(c_nb2, filter=w['w3'], strides=[1,1,1,1], padding='SAME') # [None,16,16,16]\n",
    "    conv3 = tf.nn.bias_add(conv3, b['b3'])\n",
    "    acti3 = tf.nn.relu(conv3)\n",
    "    pool3 = tf.nn.max_pool(acti3, ksize=[1,2,2,1], strides=[1,2,2,1], padding='SAME') # [None,8,8,16]\n",
    "    c_nb3 = tf.layers.batch_normalization(pool3)\n",
    "\n",
    "    fc1 = tf.contrib.layers.flatten(c_nb3)\n",
    "    \n",
    "    return fc1"
   ]
  },
  {
   "cell_type": "code",
   "execution_count": 277,
   "metadata": {},
   "outputs": [],
   "source": [
    "def LSTM(rnn_input):\n",
    "    lstm_cell = tf.keras.layers.LSTMCell(num_units)\n",
    "    h_val, h_state = tf.nn.dynamic_rnn(lstm_cell, rnn_input, dtype=tf.float32)\n",
    "    \n",
    "    return h_val, h_state"
   ]
  },
  {
   "cell_type": "code",
   "execution_count": 278,
   "metadata": {},
   "outputs": [],
   "source": [
    "f_weight = tf.Variable(tf.random.normal([num_units, 14], stddev = 0.1))\n",
    "f_bias = tf.Variable(tf.random.normal([14], stddev = 0.1))"
   ]
  },
  {
   "cell_type": "code",
   "execution_count": 279,
   "metadata": {},
   "outputs": [],
   "source": [
    "fc = tf.reshape(CNN(tf.reshape(x, [-1,64,64,3]), cnn_weights, cnn_biases), [-1,10,8*8*64])\n",
    "h_val, _ = LSTM(fc)"
   ]
  },
  {
   "cell_type": "code",
   "execution_count": 280,
   "metadata": {},
   "outputs": [],
   "source": [
    "# collection of all the final output\n",
    "final_output = tf.zeros(shape=[batch_size, 0, 14])\n",
    "for i in np.arange(seq_length):\n",
    "    temp = tf.reshape(h_val[:, i, :], [-1, num_units])\n",
    "    output = tf.matmul(temp, f_weight) + f_bias\n",
    "    output = tf.reshape(output, [-1, 1, 14])\n",
    "    final_output = tf.concat([final_output, output], axis=1)"
   ]
  },
  {
   "cell_type": "code",
   "execution_count": 281,
   "metadata": {},
   "outputs": [],
   "source": [
    "loss = tf.reduce_mean(tf.losses.mean_squared_error(labels=tf.reshape(y,[-1,10,14]), predictions=final_output))"
   ]
  },
  {
   "cell_type": "code",
   "execution_count": 282,
   "metadata": {},
   "outputs": [],
   "source": [
    "optimizer = tf.train.AdamOptimizer(learning_rate=lr).minimize(loss)"
   ]
  },
  {
   "cell_type": "code",
   "execution_count": 283,
   "metadata": {},
   "outputs": [],
   "source": [
    "predict_op = tf.reshape(final_output, [-1,10,7,2])"
   ]
  },
  {
   "cell_type": "code",
   "execution_count": 260,
   "metadata": {
    "scrolled": true
   },
   "outputs": [
    {
     "name": "stdout",
     "output_type": "stream",
     "text": [
      "epoch: 0\n",
      "loss: 1075.162353515625\n",
      "pred: [[ 0.23123364  0.10666774]\n",
      " [-0.02159846  0.03882208]\n",
      " [-0.43560186 -0.10632291]\n",
      " [-0.19698766 -0.383236  ]\n",
      " [-0.03442141  0.11160627]\n",
      " [-0.08720686 -0.2900797 ]\n",
      " [ 0.09294343  0.06739204]]\n",
      "epoch: 20\n",
      "loss: 599.5275268554688\n",
      "pred: [[7.322566  7.2678127]\n",
      " [7.465975  7.336941 ]\n",
      " [7.6187816 7.0885487]\n",
      " [7.403099  6.8142858]\n",
      " [7.477945  6.9910536]\n",
      " [7.248806  6.36547  ]\n",
      " [7.174323  6.5512924]]\n"
     ]
    },
    {
     "ename": "KeyboardInterrupt",
     "evalue": "",
     "output_type": "error",
     "traceback": [
      "\u001b[0;31m---------------------------------------------------------------------------\u001b[0m",
      "\u001b[0;31mKeyboardInterrupt\u001b[0m                         Traceback (most recent call last)",
      "\u001b[0;32m<ipython-input-260-ff02f9b4584e>\u001b[0m in \u001b[0;36m<module>\u001b[0;34m()\u001b[0m\n\u001b[1;32m      6\u001b[0m         \u001b[0mY_batch\u001b[0m \u001b[0;34m=\u001b[0m \u001b[0mY_train\u001b[0m\u001b[0;34m[\u001b[0m\u001b[0;34m:\u001b[0m\u001b[0mbatch_size\u001b[0m\u001b[0;34m]\u001b[0m\u001b[0;34m\u001b[0m\u001b[0m\n\u001b[1;32m      7\u001b[0m \u001b[0;34m\u001b[0m\u001b[0m\n\u001b[0;32m----> 8\u001b[0;31m         \u001b[0m_\u001b[0m\u001b[0;34m,\u001b[0m \u001b[0ml\u001b[0m\u001b[0;34m,\u001b[0m \u001b[0mpred\u001b[0m \u001b[0;34m=\u001b[0m \u001b[0msess\u001b[0m\u001b[0;34m.\u001b[0m\u001b[0mrun\u001b[0m\u001b[0;34m(\u001b[0m\u001b[0;34m[\u001b[0m\u001b[0moptimizer\u001b[0m\u001b[0;34m,\u001b[0m \u001b[0mloss\u001b[0m\u001b[0;34m,\u001b[0m \u001b[0mpredict_op\u001b[0m\u001b[0;34m]\u001b[0m\u001b[0;34m,\u001b[0m \u001b[0mfeed_dict\u001b[0m\u001b[0;34m=\u001b[0m\u001b[0;34m{\u001b[0m\u001b[0mx\u001b[0m\u001b[0;34m:\u001b[0m\u001b[0mX_batch\u001b[0m\u001b[0;34m,\u001b[0m \u001b[0my\u001b[0m\u001b[0;34m:\u001b[0m\u001b[0mY_batch\u001b[0m\u001b[0;34m}\u001b[0m\u001b[0;34m)\u001b[0m\u001b[0;34m\u001b[0m\u001b[0m\n\u001b[0m\u001b[1;32m      9\u001b[0m \u001b[0;34m\u001b[0m\u001b[0m\n\u001b[1;32m     10\u001b[0m         \u001b[0;32mif\u001b[0m \u001b[0mepoch\u001b[0m \u001b[0;34m%\u001b[0m \u001b[0;36m20\u001b[0m \u001b[0;34m==\u001b[0m \u001b[0;36m0\u001b[0m\u001b[0;34m:\u001b[0m\u001b[0;34m\u001b[0m\u001b[0m\n",
      "\u001b[0;32m~/anaconda3/lib/python3.6/site-packages/tensorflow/python/client/session.py\u001b[0m in \u001b[0;36mrun\u001b[0;34m(self, fetches, feed_dict, options, run_metadata)\u001b[0m\n\u001b[1;32m    927\u001b[0m     \u001b[0;32mtry\u001b[0m\u001b[0;34m:\u001b[0m\u001b[0;34m\u001b[0m\u001b[0m\n\u001b[1;32m    928\u001b[0m       result = self._run(None, fetches, feed_dict, options_ptr,\n\u001b[0;32m--> 929\u001b[0;31m                          run_metadata_ptr)\n\u001b[0m\u001b[1;32m    930\u001b[0m       \u001b[0;32mif\u001b[0m \u001b[0mrun_metadata\u001b[0m\u001b[0;34m:\u001b[0m\u001b[0;34m\u001b[0m\u001b[0m\n\u001b[1;32m    931\u001b[0m         \u001b[0mproto_data\u001b[0m \u001b[0;34m=\u001b[0m \u001b[0mtf_session\u001b[0m\u001b[0;34m.\u001b[0m\u001b[0mTF_GetBuffer\u001b[0m\u001b[0;34m(\u001b[0m\u001b[0mrun_metadata_ptr\u001b[0m\u001b[0;34m)\u001b[0m\u001b[0;34m\u001b[0m\u001b[0m\n",
      "\u001b[0;32m~/anaconda3/lib/python3.6/site-packages/tensorflow/python/client/session.py\u001b[0m in \u001b[0;36m_run\u001b[0;34m(self, handle, fetches, feed_dict, options, run_metadata)\u001b[0m\n\u001b[1;32m   1150\u001b[0m     \u001b[0;32mif\u001b[0m \u001b[0mfinal_fetches\u001b[0m \u001b[0;32mor\u001b[0m \u001b[0mfinal_targets\u001b[0m \u001b[0;32mor\u001b[0m \u001b[0;34m(\u001b[0m\u001b[0mhandle\u001b[0m \u001b[0;32mand\u001b[0m \u001b[0mfeed_dict_tensor\u001b[0m\u001b[0;34m)\u001b[0m\u001b[0;34m:\u001b[0m\u001b[0;34m\u001b[0m\u001b[0m\n\u001b[1;32m   1151\u001b[0m       results = self._do_run(handle, final_targets, final_fetches,\n\u001b[0;32m-> 1152\u001b[0;31m                              feed_dict_tensor, options, run_metadata)\n\u001b[0m\u001b[1;32m   1153\u001b[0m     \u001b[0;32melse\u001b[0m\u001b[0;34m:\u001b[0m\u001b[0;34m\u001b[0m\u001b[0m\n\u001b[1;32m   1154\u001b[0m       \u001b[0mresults\u001b[0m \u001b[0;34m=\u001b[0m \u001b[0;34m[\u001b[0m\u001b[0;34m]\u001b[0m\u001b[0;34m\u001b[0m\u001b[0m\n",
      "\u001b[0;32m~/anaconda3/lib/python3.6/site-packages/tensorflow/python/client/session.py\u001b[0m in \u001b[0;36m_do_run\u001b[0;34m(self, handle, target_list, fetch_list, feed_dict, options, run_metadata)\u001b[0m\n\u001b[1;32m   1326\u001b[0m     \u001b[0;32mif\u001b[0m \u001b[0mhandle\u001b[0m \u001b[0;32mis\u001b[0m \u001b[0;32mNone\u001b[0m\u001b[0;34m:\u001b[0m\u001b[0;34m\u001b[0m\u001b[0m\n\u001b[1;32m   1327\u001b[0m       return self._do_call(_run_fn, feeds, fetches, targets, options,\n\u001b[0;32m-> 1328\u001b[0;31m                            run_metadata)\n\u001b[0m\u001b[1;32m   1329\u001b[0m     \u001b[0;32melse\u001b[0m\u001b[0;34m:\u001b[0m\u001b[0;34m\u001b[0m\u001b[0m\n\u001b[1;32m   1330\u001b[0m       \u001b[0;32mreturn\u001b[0m \u001b[0mself\u001b[0m\u001b[0;34m.\u001b[0m\u001b[0m_do_call\u001b[0m\u001b[0;34m(\u001b[0m\u001b[0m_prun_fn\u001b[0m\u001b[0;34m,\u001b[0m \u001b[0mhandle\u001b[0m\u001b[0;34m,\u001b[0m \u001b[0mfeeds\u001b[0m\u001b[0;34m,\u001b[0m \u001b[0mfetches\u001b[0m\u001b[0;34m)\u001b[0m\u001b[0;34m\u001b[0m\u001b[0m\n",
      "\u001b[0;32m~/anaconda3/lib/python3.6/site-packages/tensorflow/python/client/session.py\u001b[0m in \u001b[0;36m_do_call\u001b[0;34m(self, fn, *args)\u001b[0m\n\u001b[1;32m   1332\u001b[0m   \u001b[0;32mdef\u001b[0m \u001b[0m_do_call\u001b[0m\u001b[0;34m(\u001b[0m\u001b[0mself\u001b[0m\u001b[0;34m,\u001b[0m \u001b[0mfn\u001b[0m\u001b[0;34m,\u001b[0m \u001b[0;34m*\u001b[0m\u001b[0margs\u001b[0m\u001b[0;34m)\u001b[0m\u001b[0;34m:\u001b[0m\u001b[0;34m\u001b[0m\u001b[0m\n\u001b[1;32m   1333\u001b[0m     \u001b[0;32mtry\u001b[0m\u001b[0;34m:\u001b[0m\u001b[0;34m\u001b[0m\u001b[0m\n\u001b[0;32m-> 1334\u001b[0;31m       \u001b[0;32mreturn\u001b[0m \u001b[0mfn\u001b[0m\u001b[0;34m(\u001b[0m\u001b[0;34m*\u001b[0m\u001b[0margs\u001b[0m\u001b[0;34m)\u001b[0m\u001b[0;34m\u001b[0m\u001b[0m\n\u001b[0m\u001b[1;32m   1335\u001b[0m     \u001b[0;32mexcept\u001b[0m \u001b[0merrors\u001b[0m\u001b[0;34m.\u001b[0m\u001b[0mOpError\u001b[0m \u001b[0;32mas\u001b[0m \u001b[0me\u001b[0m\u001b[0;34m:\u001b[0m\u001b[0;34m\u001b[0m\u001b[0m\n\u001b[1;32m   1336\u001b[0m       \u001b[0mmessage\u001b[0m \u001b[0;34m=\u001b[0m \u001b[0mcompat\u001b[0m\u001b[0;34m.\u001b[0m\u001b[0mas_text\u001b[0m\u001b[0;34m(\u001b[0m\u001b[0me\u001b[0m\u001b[0;34m.\u001b[0m\u001b[0mmessage\u001b[0m\u001b[0;34m)\u001b[0m\u001b[0;34m\u001b[0m\u001b[0m\n",
      "\u001b[0;32m~/anaconda3/lib/python3.6/site-packages/tensorflow/python/client/session.py\u001b[0m in \u001b[0;36m_run_fn\u001b[0;34m(feed_dict, fetch_list, target_list, options, run_metadata)\u001b[0m\n\u001b[1;32m   1317\u001b[0m       \u001b[0mself\u001b[0m\u001b[0;34m.\u001b[0m\u001b[0m_extend_graph\u001b[0m\u001b[0;34m(\u001b[0m\u001b[0;34m)\u001b[0m\u001b[0;34m\u001b[0m\u001b[0m\n\u001b[1;32m   1318\u001b[0m       return self._call_tf_sessionrun(\n\u001b[0;32m-> 1319\u001b[0;31m           options, feed_dict, fetch_list, target_list, run_metadata)\n\u001b[0m\u001b[1;32m   1320\u001b[0m \u001b[0;34m\u001b[0m\u001b[0m\n\u001b[1;32m   1321\u001b[0m     \u001b[0;32mdef\u001b[0m \u001b[0m_prun_fn\u001b[0m\u001b[0;34m(\u001b[0m\u001b[0mhandle\u001b[0m\u001b[0;34m,\u001b[0m \u001b[0mfeed_dict\u001b[0m\u001b[0;34m,\u001b[0m \u001b[0mfetch_list\u001b[0m\u001b[0;34m)\u001b[0m\u001b[0;34m:\u001b[0m\u001b[0;34m\u001b[0m\u001b[0m\n",
      "\u001b[0;32m~/anaconda3/lib/python3.6/site-packages/tensorflow/python/client/session.py\u001b[0m in \u001b[0;36m_call_tf_sessionrun\u001b[0;34m(self, options, feed_dict, fetch_list, target_list, run_metadata)\u001b[0m\n\u001b[1;32m   1405\u001b[0m     return tf_session.TF_SessionRun_wrapper(\n\u001b[1;32m   1406\u001b[0m         \u001b[0mself\u001b[0m\u001b[0;34m.\u001b[0m\u001b[0m_session\u001b[0m\u001b[0;34m,\u001b[0m \u001b[0moptions\u001b[0m\u001b[0;34m,\u001b[0m \u001b[0mfeed_dict\u001b[0m\u001b[0;34m,\u001b[0m \u001b[0mfetch_list\u001b[0m\u001b[0;34m,\u001b[0m \u001b[0mtarget_list\u001b[0m\u001b[0;34m,\u001b[0m\u001b[0;34m\u001b[0m\u001b[0m\n\u001b[0;32m-> 1407\u001b[0;31m         run_metadata)\n\u001b[0m\u001b[1;32m   1408\u001b[0m \u001b[0;34m\u001b[0m\u001b[0m\n\u001b[1;32m   1409\u001b[0m   \u001b[0;32mdef\u001b[0m \u001b[0m_call_tf_sessionprun\u001b[0m\u001b[0;34m(\u001b[0m\u001b[0mself\u001b[0m\u001b[0;34m,\u001b[0m \u001b[0mhandle\u001b[0m\u001b[0;34m,\u001b[0m \u001b[0mfeed_dict\u001b[0m\u001b[0;34m,\u001b[0m \u001b[0mfetch_list\u001b[0m\u001b[0;34m)\u001b[0m\u001b[0;34m:\u001b[0m\u001b[0;34m\u001b[0m\u001b[0m\n",
      "\u001b[0;31mKeyboardInterrupt\u001b[0m: "
     ]
    }
   ],
   "source": [
    "with tf.Session() as sess:\n",
    "    sess.run(tf.global_variables_initializer())\n",
    "    \n",
    "    for epoch in range(300):\n",
    "        X_batch = X_train[:batch_size]\n",
    "        Y_batch = Y_train[:batch_size]\n",
    "        \n",
    "        _, l, pred = sess.run([optimizer, loss, predict_op], feed_dict={x:X_batch, y:Y_batch})\n",
    "        \n",
    "        if epoch % 20 == 0:\n",
    "            print('epoch: {}'.format(epoch))\n",
    "            print('loss: {}'.format(l))\n",
    "            print('pred: {}'.format(pred[1][0]))\n",
    "    #         print('GT: {}'.format(Y_batch[0][0]))\n",
    "        \n",
    "#         plt.imshow((X_batch[0][0]-np.min(X_batch[0][0]))/np.max(X_batch[0][0]))\n",
    "#         plt.show()"
   ]
  },
  {
   "cell_type": "code",
   "execution_count": 284,
   "metadata": {
    "scrolled": true
   },
   "outputs": [
    {
     "name": "stdout",
     "output_type": "stream",
     "text": [
      "epoch: 0\n",
      "loss: 1095.7098388671875\n",
      "epoch: 20\n",
      "loss: 608.8097534179688\n",
      "epoch: 40\n",
      "loss: 326.8182067871094\n",
      "epoch: 60\n",
      "loss: 173.01829528808594\n",
      "epoch: 80\n",
      "loss: 103.53776550292969\n",
      "epoch: 100\n",
      "loss: 74.54568481445312\n",
      "epoch: 120\n",
      "loss: 63.637088775634766\n",
      "epoch: 140\n",
      "loss: 59.982479095458984\n",
      "epoch: 160\n",
      "loss: 58.857845306396484\n",
      "epoch: 180\n",
      "loss: 58.48249816894531\n",
      "epoch: 200\n",
      "loss: 58.295654296875\n",
      "epoch: 220\n",
      "loss: 58.150917053222656\n",
      "epoch: 240\n",
      "loss: 58.01679611206055\n",
      "epoch: 260\n",
      "loss: 57.88766860961914\n",
      "epoch: 280\n",
      "loss: 57.76258850097656\n",
      "epoch: 300\n",
      "loss: 57.641326904296875\n",
      "epoch: 320\n",
      "loss: 57.5236930847168\n",
      "epoch: 340\n",
      "loss: 57.40951919555664\n",
      "epoch: 360\n",
      "loss: 57.2986946105957\n",
      "epoch: 380\n",
      "loss: 57.19104766845703\n"
     ]
    }
   ],
   "source": [
    "sess = tf.Session()\n",
    "sess.run(tf.global_variables_initializer())\n",
    "\n",
    "for epoch in range(400):\n",
    "    X_batch = X_train[:batch_size]\n",
    "    Y_batch = Y_train[:batch_size]\n",
    "\n",
    "    _, l, pred = sess.run([optimizer, loss, predict_op], feed_dict={x:X_batch, y:Y_batch})\n",
    "\n",
    "    if epoch % 20 == 0:\n",
    "        print('epoch: {}'.format(epoch))\n",
    "        print('loss: {}'.format(l))\n",
    "#         print('pred: {}'.format(pred[1][0]))\n",
    "#         print('GT: {}'.format(Y_batch[0][0]))"
   ]
  },
  {
   "cell_type": "code",
   "execution_count": 327,
   "metadata": {},
   "outputs": [],
   "source": [
    "xx = 2\n",
    "pred = sess.run(predict_op, feed_dict={x: X_train[xx:xx+batch_size]})"
   ]
  },
  {
   "cell_type": "code",
   "execution_count": 328,
   "metadata": {
    "scrolled": true
   },
   "outputs": [
    {
     "name": "stdout",
     "output_type": "stream",
     "text": [
      "[[25.058146 13.98947 ]\n",
      " [20.478634 28.89505 ]\n",
      " [30.127571 30.4534  ]\n",
      " [17.912397 31.238733]\n",
      " [31.758581 32.25976 ]\n",
      " [20.574171 20.98079 ]\n",
      " [29.44961  20.984308]]\n",
      "[[ -4.1420174  -5.075407 ]\n",
      " [ -5.8398075 -16.790306 ]\n",
      " [ -4.491947  -14.84948  ]\n",
      " [ -4.406044  -12.304747 ]\n",
      " [ -5.140505   -9.447823 ]\n",
      " [ -4.1098614  -7.646042 ]\n",
      " [ -5.25593    -8.177992 ]]\n"
     ]
    }
   ],
   "source": [
    "zz = 4\n",
    "print(pred[zz][0])\n",
    "# print(Y_train[zz][0])\n",
    "print(pred[zz][0] - Y_train[zz][0])"
   ]
  },
  {
   "cell_type": "code",
   "execution_count": 329,
   "metadata": {
    "scrolled": true
   },
   "outputs": [
    {
     "data": {
      "image/png": "[encoded data removed]",
      "text/plain": [
       "<matplotlib.figure.Figure at 0x1c23a49278>"
      ]
     },
     "metadata": {},
     "output_type": "display_data"
    }
   ],
   "source": [
    "plt.imshow((X_train[xx][0] - np.min(X_train[xx][0]))/np.max(X_train[xx][0]))\n",
    "for i in range(7):\n",
    "    plt.scatter(Y_train[xx][0][i][0], Y_train[xx][0][i][1], marker='x',s=150,c='r')\n",
    "    plt.scatter(pred[0][0][i][0], pred[0][0][i][1], marker='x',s=150,c='y')"
   ]
  },
  {
   "cell_type": "code",
   "execution_count": 316,
   "metadata": {},
   "outputs": [
    {
     "data": {
      "image/png": "[encoded data removed]",
      "text/plain": [
       "<matplotlib.figure.Figure at 0x1c2671c438>"
      ]
     },
     "metadata": {},
     "output_type": "display_data"
    }
   ],
   "source": [
    "j = 4\n",
    "k = 3400\n",
    "plt.imshow((train_data[k][j] + 256)/255.)\n",
    "for i in range(7):\n",
    "    plt.scatter(train_labels[k][j][i][0], train_labels[k][j][i][1], marker='x', s=100, c='r')"
   ]
  },
  {
   "cell_type": "code",
   "execution_count": 125,
   "metadata": {},
   "outputs": [
    {
     "data": {
      "text/plain": [
       "array([[34.162395, 21.559414],\n",
       "       [22.119383, 41.18453 ],\n",
       "       [34.678524, 47.446236],\n",
       "       [21.603254, 50.653454],\n",
       "       [39.925835, 51.340714],\n",
       "       [26.205404, 33.930107],\n",
       "       [38.033363, 34.617367]], dtype=float32)"
      ]
     },
     "execution_count": 125,
     "metadata": {},
     "output_type": "execute_result"
    }
   ],
   "source": [
    "train_labels[0][2]"
   ]
  },
  {
   "cell_type": "code",
   "execution_count": null,
   "metadata": {},
   "outputs": [],
   "source": []
  }
 ],
 "metadata": {
  "kernelspec": {
   "display_name": "Python 3",
   "language": "python",
   "name": "python3"
  },
  "language_info": {
   "codemirror_mode": {
    "name": "ipython",
    "version": 3
   },
   "file_extension": ".py",
   "mimetype": "text/x-python",
   "name": "python",
   "nbconvert_exporter": "python",
   "pygments_lexer": "ipython3",
   "version": "3.6.4"
  }
 },
 "nbformat": 4,
 "nbformat_minor": 2
}
